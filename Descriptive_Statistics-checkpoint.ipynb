{
 "cells": [
  {
   "cell_type": "markdown",
   "metadata": {},
   "source": [
    "# 1. Import Libraries"
   ]
  },
  {
   "cell_type": "code",
   "execution_count": 2,
   "metadata": {},
   "outputs": [],
   "source": [
    "import numpy as np\n",
    "import pandas as pd\n",
    "import matplotlib.pyplot as plt\n",
    "import seaborn as sns"
   ]
  },
  {
   "cell_type": "markdown",
   "metadata": {},
   "source": [
    "# 2 . Import Data set"
   ]
  },
  {
   "cell_type": "code",
   "execution_count": 3,
   "metadata": {},
   "outputs": [
    {
     "data": {
      "text/html": [
       "<div>\n",
       "<style scoped>\n",
       "    .dataframe tbody tr th:only-of-type {\n",
       "        vertical-align: middle;\n",
       "    }\n",
       "\n",
       "    .dataframe tbody tr th {\n",
       "        vertical-align: top;\n",
       "    }\n",
       "\n",
       "    .dataframe thead th {\n",
       "        text-align: right;\n",
       "    }\n",
       "</style>\n",
       "<table border=\"1\" class=\"dataframe\">\n",
       "  <thead>\n",
       "    <tr style=\"text-align: right;\">\n",
       "      <th></th>\n",
       "      <th>Mthly_HH_Income</th>\n",
       "      <th>Mthly_HH_Expense</th>\n",
       "      <th>No_of_Fly_Members</th>\n",
       "      <th>Emi_or_Rent_Amt</th>\n",
       "      <th>Annual_HH_Income</th>\n",
       "      <th>Highest_Qualified_Member</th>\n",
       "      <th>No_of_Earning_Members</th>\n",
       "    </tr>\n",
       "  </thead>\n",
       "  <tbody>\n",
       "    <tr>\n",
       "      <td>0</td>\n",
       "      <td>5000</td>\n",
       "      <td>8000</td>\n",
       "      <td>3</td>\n",
       "      <td>2000</td>\n",
       "      <td>64200</td>\n",
       "      <td>Under-Graduate</td>\n",
       "      <td>1</td>\n",
       "    </tr>\n",
       "    <tr>\n",
       "      <td>1</td>\n",
       "      <td>6000</td>\n",
       "      <td>7000</td>\n",
       "      <td>2</td>\n",
       "      <td>3000</td>\n",
       "      <td>79920</td>\n",
       "      <td>Illiterate</td>\n",
       "      <td>1</td>\n",
       "    </tr>\n",
       "    <tr>\n",
       "      <td>2</td>\n",
       "      <td>10000</td>\n",
       "      <td>4500</td>\n",
       "      <td>2</td>\n",
       "      <td>0</td>\n",
       "      <td>112800</td>\n",
       "      <td>Under-Graduate</td>\n",
       "      <td>1</td>\n",
       "    </tr>\n",
       "    <tr>\n",
       "      <td>3</td>\n",
       "      <td>10000</td>\n",
       "      <td>2000</td>\n",
       "      <td>1</td>\n",
       "      <td>0</td>\n",
       "      <td>97200</td>\n",
       "      <td>Illiterate</td>\n",
       "      <td>1</td>\n",
       "    </tr>\n",
       "    <tr>\n",
       "      <td>4</td>\n",
       "      <td>12500</td>\n",
       "      <td>12000</td>\n",
       "      <td>2</td>\n",
       "      <td>3000</td>\n",
       "      <td>147000</td>\n",
       "      <td>Graduate</td>\n",
       "      <td>1</td>\n",
       "    </tr>\n",
       "    <tr>\n",
       "      <td>5</td>\n",
       "      <td>14000</td>\n",
       "      <td>8000</td>\n",
       "      <td>2</td>\n",
       "      <td>0</td>\n",
       "      <td>196560</td>\n",
       "      <td>Graduate</td>\n",
       "      <td>1</td>\n",
       "    </tr>\n",
       "    <tr>\n",
       "      <td>6</td>\n",
       "      <td>15000</td>\n",
       "      <td>16000</td>\n",
       "      <td>3</td>\n",
       "      <td>35000</td>\n",
       "      <td>167400</td>\n",
       "      <td>Post-Graduate</td>\n",
       "      <td>1</td>\n",
       "    </tr>\n",
       "    <tr>\n",
       "      <td>7</td>\n",
       "      <td>18000</td>\n",
       "      <td>20000</td>\n",
       "      <td>5</td>\n",
       "      <td>8000</td>\n",
       "      <td>216000</td>\n",
       "      <td>Graduate</td>\n",
       "      <td>1</td>\n",
       "    </tr>\n",
       "    <tr>\n",
       "      <td>8</td>\n",
       "      <td>19000</td>\n",
       "      <td>9000</td>\n",
       "      <td>2</td>\n",
       "      <td>0</td>\n",
       "      <td>218880</td>\n",
       "      <td>Under-Graduate</td>\n",
       "      <td>1</td>\n",
       "    </tr>\n",
       "    <tr>\n",
       "      <td>9</td>\n",
       "      <td>20000</td>\n",
       "      <td>9000</td>\n",
       "      <td>4</td>\n",
       "      <td>0</td>\n",
       "      <td>220800</td>\n",
       "      <td>Under-Graduate</td>\n",
       "      <td>2</td>\n",
       "    </tr>\n",
       "    <tr>\n",
       "      <td>10</td>\n",
       "      <td>20000</td>\n",
       "      <td>18000</td>\n",
       "      <td>4</td>\n",
       "      <td>8000</td>\n",
       "      <td>278400</td>\n",
       "      <td>Under-Graduate</td>\n",
       "      <td>2</td>\n",
       "    </tr>\n",
       "    <tr>\n",
       "      <td>11</td>\n",
       "      <td>22000</td>\n",
       "      <td>25000</td>\n",
       "      <td>6</td>\n",
       "      <td>12000</td>\n",
       "      <td>279840</td>\n",
       "      <td>Illiterate</td>\n",
       "      <td>1</td>\n",
       "    </tr>\n",
       "    <tr>\n",
       "      <td>12</td>\n",
       "      <td>23400</td>\n",
       "      <td>5000</td>\n",
       "      <td>3</td>\n",
       "      <td>0</td>\n",
       "      <td>292032</td>\n",
       "      <td>Illiterate</td>\n",
       "      <td>1</td>\n",
       "    </tr>\n",
       "    <tr>\n",
       "      <td>13</td>\n",
       "      <td>24000</td>\n",
       "      <td>10500</td>\n",
       "      <td>6</td>\n",
       "      <td>0</td>\n",
       "      <td>316800</td>\n",
       "      <td>Graduate</td>\n",
       "      <td>2</td>\n",
       "    </tr>\n",
       "    <tr>\n",
       "      <td>14</td>\n",
       "      <td>24000</td>\n",
       "      <td>10000</td>\n",
       "      <td>4</td>\n",
       "      <td>0</td>\n",
       "      <td>244800</td>\n",
       "      <td>Graduate</td>\n",
       "      <td>2</td>\n",
       "    </tr>\n",
       "    <tr>\n",
       "      <td>15</td>\n",
       "      <td>25000</td>\n",
       "      <td>12300</td>\n",
       "      <td>3</td>\n",
       "      <td>0</td>\n",
       "      <td>246000</td>\n",
       "      <td>Graduate</td>\n",
       "      <td>1</td>\n",
       "    </tr>\n",
       "    <tr>\n",
       "      <td>16</td>\n",
       "      <td>25000</td>\n",
       "      <td>20000</td>\n",
       "      <td>3</td>\n",
       "      <td>3500</td>\n",
       "      <td>261000</td>\n",
       "      <td>Graduate</td>\n",
       "      <td>1</td>\n",
       "    </tr>\n",
       "    <tr>\n",
       "      <td>17</td>\n",
       "      <td>25000</td>\n",
       "      <td>10000</td>\n",
       "      <td>6</td>\n",
       "      <td>0</td>\n",
       "      <td>258000</td>\n",
       "      <td>Under-Graduate</td>\n",
       "      <td>3</td>\n",
       "    </tr>\n",
       "    <tr>\n",
       "      <td>18</td>\n",
       "      <td>29000</td>\n",
       "      <td>6600</td>\n",
       "      <td>2</td>\n",
       "      <td>2000</td>\n",
       "      <td>348000</td>\n",
       "      <td>Graduate</td>\n",
       "      <td>1</td>\n",
       "    </tr>\n",
       "    <tr>\n",
       "      <td>19</td>\n",
       "      <td>30000</td>\n",
       "      <td>13000</td>\n",
       "      <td>4</td>\n",
       "      <td>0</td>\n",
       "      <td>385200</td>\n",
       "      <td>Graduate</td>\n",
       "      <td>1</td>\n",
       "    </tr>\n",
       "    <tr>\n",
       "      <td>20</td>\n",
       "      <td>30500</td>\n",
       "      <td>25000</td>\n",
       "      <td>5</td>\n",
       "      <td>5000</td>\n",
       "      <td>351360</td>\n",
       "      <td>Under-Graduate</td>\n",
       "      <td>1</td>\n",
       "    </tr>\n",
       "    <tr>\n",
       "      <td>21</td>\n",
       "      <td>32000</td>\n",
       "      <td>15000</td>\n",
       "      <td>4</td>\n",
       "      <td>0</td>\n",
       "      <td>445440</td>\n",
       "      <td>Professional</td>\n",
       "      <td>1</td>\n",
       "    </tr>\n",
       "    <tr>\n",
       "      <td>22</td>\n",
       "      <td>34000</td>\n",
       "      <td>19000</td>\n",
       "      <td>6</td>\n",
       "      <td>0</td>\n",
       "      <td>330480</td>\n",
       "      <td>Professional</td>\n",
       "      <td>1</td>\n",
       "    </tr>\n",
       "    <tr>\n",
       "      <td>23</td>\n",
       "      <td>34000</td>\n",
       "      <td>25000</td>\n",
       "      <td>3</td>\n",
       "      <td>4000</td>\n",
       "      <td>469200</td>\n",
       "      <td>Professional</td>\n",
       "      <td>1</td>\n",
       "    </tr>\n",
       "    <tr>\n",
       "      <td>24</td>\n",
       "      <td>35000</td>\n",
       "      <td>12000</td>\n",
       "      <td>3</td>\n",
       "      <td>0</td>\n",
       "      <td>466200</td>\n",
       "      <td>Graduate</td>\n",
       "      <td>1</td>\n",
       "    </tr>\n",
       "    <tr>\n",
       "      <td>25</td>\n",
       "      <td>35000</td>\n",
       "      <td>25000</td>\n",
       "      <td>4</td>\n",
       "      <td>0</td>\n",
       "      <td>449400</td>\n",
       "      <td>Professional</td>\n",
       "      <td>2</td>\n",
       "    </tr>\n",
       "    <tr>\n",
       "      <td>26</td>\n",
       "      <td>39000</td>\n",
       "      <td>8000</td>\n",
       "      <td>4</td>\n",
       "      <td>0</td>\n",
       "      <td>556920</td>\n",
       "      <td>Under-Graduate</td>\n",
       "      <td>1</td>\n",
       "    </tr>\n",
       "    <tr>\n",
       "      <td>27</td>\n",
       "      <td>40000</td>\n",
       "      <td>10000</td>\n",
       "      <td>4</td>\n",
       "      <td>0</td>\n",
       "      <td>412800</td>\n",
       "      <td>Under-Graduate</td>\n",
       "      <td>1</td>\n",
       "    </tr>\n",
       "    <tr>\n",
       "      <td>28</td>\n",
       "      <td>42000</td>\n",
       "      <td>15000</td>\n",
       "      <td>4</td>\n",
       "      <td>0</td>\n",
       "      <td>488880</td>\n",
       "      <td>Graduate</td>\n",
       "      <td>1</td>\n",
       "    </tr>\n",
       "    <tr>\n",
       "      <td>29</td>\n",
       "      <td>43000</td>\n",
       "      <td>12000</td>\n",
       "      <td>4</td>\n",
       "      <td>0</td>\n",
       "      <td>619200</td>\n",
       "      <td>Graduate</td>\n",
       "      <td>1</td>\n",
       "    </tr>\n",
       "    <tr>\n",
       "      <td>30</td>\n",
       "      <td>45000</td>\n",
       "      <td>25000</td>\n",
       "      <td>6</td>\n",
       "      <td>0</td>\n",
       "      <td>523800</td>\n",
       "      <td>Graduate</td>\n",
       "      <td>3</td>\n",
       "    </tr>\n",
       "    <tr>\n",
       "      <td>31</td>\n",
       "      <td>45000</td>\n",
       "      <td>40000</td>\n",
       "      <td>6</td>\n",
       "      <td>3500</td>\n",
       "      <td>507600</td>\n",
       "      <td>Professional</td>\n",
       "      <td>2</td>\n",
       "    </tr>\n",
       "    <tr>\n",
       "      <td>32</td>\n",
       "      <td>45000</td>\n",
       "      <td>10000</td>\n",
       "      <td>2</td>\n",
       "      <td>1000</td>\n",
       "      <td>437400</td>\n",
       "      <td>Post-Graduate</td>\n",
       "      <td>1</td>\n",
       "    </tr>\n",
       "    <tr>\n",
       "      <td>33</td>\n",
       "      <td>45000</td>\n",
       "      <td>22000</td>\n",
       "      <td>4</td>\n",
       "      <td>2500</td>\n",
       "      <td>610200</td>\n",
       "      <td>Post-Graduate</td>\n",
       "      <td>1</td>\n",
       "    </tr>\n",
       "    <tr>\n",
       "      <td>34</td>\n",
       "      <td>46000</td>\n",
       "      <td>25000</td>\n",
       "      <td>5</td>\n",
       "      <td>3500</td>\n",
       "      <td>596160</td>\n",
       "      <td>Graduate</td>\n",
       "      <td>1</td>\n",
       "    </tr>\n",
       "    <tr>\n",
       "      <td>35</td>\n",
       "      <td>47000</td>\n",
       "      <td>15000</td>\n",
       "      <td>7</td>\n",
       "      <td>0</td>\n",
       "      <td>456840</td>\n",
       "      <td>Professional</td>\n",
       "      <td>4</td>\n",
       "    </tr>\n",
       "    <tr>\n",
       "      <td>36</td>\n",
       "      <td>50000</td>\n",
       "      <td>20000</td>\n",
       "      <td>4</td>\n",
       "      <td>0</td>\n",
       "      <td>570000</td>\n",
       "      <td>Professional</td>\n",
       "      <td>1</td>\n",
       "    </tr>\n",
       "    <tr>\n",
       "      <td>37</td>\n",
       "      <td>50500</td>\n",
       "      <td>20000</td>\n",
       "      <td>3</td>\n",
       "      <td>0</td>\n",
       "      <td>581760</td>\n",
       "      <td>Professional</td>\n",
       "      <td>2</td>\n",
       "    </tr>\n",
       "    <tr>\n",
       "      <td>38</td>\n",
       "      <td>55000</td>\n",
       "      <td>45000</td>\n",
       "      <td>6</td>\n",
       "      <td>12000</td>\n",
       "      <td>600600</td>\n",
       "      <td>Graduate</td>\n",
       "      <td>2</td>\n",
       "    </tr>\n",
       "    <tr>\n",
       "      <td>39</td>\n",
       "      <td>60000</td>\n",
       "      <td>10000</td>\n",
       "      <td>3</td>\n",
       "      <td>0</td>\n",
       "      <td>590400</td>\n",
       "      <td>Post-Graduate</td>\n",
       "      <td>1</td>\n",
       "    </tr>\n",
       "    <tr>\n",
       "      <td>40</td>\n",
       "      <td>60000</td>\n",
       "      <td>50000</td>\n",
       "      <td>6</td>\n",
       "      <td>10000</td>\n",
       "      <td>590400</td>\n",
       "      <td>Graduate</td>\n",
       "      <td>1</td>\n",
       "    </tr>\n",
       "    <tr>\n",
       "      <td>41</td>\n",
       "      <td>65000</td>\n",
       "      <td>20000</td>\n",
       "      <td>4</td>\n",
       "      <td>5000</td>\n",
       "      <td>647400</td>\n",
       "      <td>Illiterate</td>\n",
       "      <td>2</td>\n",
       "    </tr>\n",
       "    <tr>\n",
       "      <td>42</td>\n",
       "      <td>70000</td>\n",
       "      <td>9000</td>\n",
       "      <td>2</td>\n",
       "      <td>0</td>\n",
       "      <td>756000</td>\n",
       "      <td>Graduate</td>\n",
       "      <td>1</td>\n",
       "    </tr>\n",
       "    <tr>\n",
       "      <td>43</td>\n",
       "      <td>80000</td>\n",
       "      <td>20000</td>\n",
       "      <td>4</td>\n",
       "      <td>0</td>\n",
       "      <td>1075200</td>\n",
       "      <td>Graduate</td>\n",
       "      <td>1</td>\n",
       "    </tr>\n",
       "    <tr>\n",
       "      <td>44</td>\n",
       "      <td>85000</td>\n",
       "      <td>25000</td>\n",
       "      <td>5</td>\n",
       "      <td>0</td>\n",
       "      <td>1142400</td>\n",
       "      <td>Under-Graduate</td>\n",
       "      <td>2</td>\n",
       "    </tr>\n",
       "    <tr>\n",
       "      <td>45</td>\n",
       "      <td>90000</td>\n",
       "      <td>48000</td>\n",
       "      <td>7</td>\n",
       "      <td>0</td>\n",
       "      <td>885600</td>\n",
       "      <td>Post-Graduate</td>\n",
       "      <td>3</td>\n",
       "    </tr>\n",
       "    <tr>\n",
       "      <td>46</td>\n",
       "      <td>98000</td>\n",
       "      <td>25000</td>\n",
       "      <td>5</td>\n",
       "      <td>0</td>\n",
       "      <td>1152480</td>\n",
       "      <td>Professional</td>\n",
       "      <td>2</td>\n",
       "    </tr>\n",
       "    <tr>\n",
       "      <td>47</td>\n",
       "      <td>100000</td>\n",
       "      <td>30000</td>\n",
       "      <td>6</td>\n",
       "      <td>0</td>\n",
       "      <td>1404000</td>\n",
       "      <td>Graduate</td>\n",
       "      <td>3</td>\n",
       "    </tr>\n",
       "    <tr>\n",
       "      <td>48</td>\n",
       "      <td>100000</td>\n",
       "      <td>50000</td>\n",
       "      <td>4</td>\n",
       "      <td>20000</td>\n",
       "      <td>1032000</td>\n",
       "      <td>Professional</td>\n",
       "      <td>2</td>\n",
       "    </tr>\n",
       "    <tr>\n",
       "      <td>49</td>\n",
       "      <td>100000</td>\n",
       "      <td>40000</td>\n",
       "      <td>6</td>\n",
       "      <td>10000</td>\n",
       "      <td>1320000</td>\n",
       "      <td>Post-Graduate</td>\n",
       "      <td>1</td>\n",
       "    </tr>\n",
       "  </tbody>\n",
       "</table>\n",
       "</div>"
      ],
      "text/plain": [
       "    Mthly_HH_Income  Mthly_HH_Expense  No_of_Fly_Members  Emi_or_Rent_Amt  \\\n",
       "0              5000              8000                  3             2000   \n",
       "1              6000              7000                  2             3000   \n",
       "2             10000              4500                  2                0   \n",
       "3             10000              2000                  1                0   \n",
       "4             12500             12000                  2             3000   \n",
       "5             14000              8000                  2                0   \n",
       "6             15000             16000                  3            35000   \n",
       "7             18000             20000                  5             8000   \n",
       "8             19000              9000                  2                0   \n",
       "9             20000              9000                  4                0   \n",
       "10            20000             18000                  4             8000   \n",
       "11            22000             25000                  6            12000   \n",
       "12            23400              5000                  3                0   \n",
       "13            24000             10500                  6                0   \n",
       "14            24000             10000                  4                0   \n",
       "15            25000             12300                  3                0   \n",
       "16            25000             20000                  3             3500   \n",
       "17            25000             10000                  6                0   \n",
       "18            29000              6600                  2             2000   \n",
       "19            30000             13000                  4                0   \n",
       "20            30500             25000                  5             5000   \n",
       "21            32000             15000                  4                0   \n",
       "22            34000             19000                  6                0   \n",
       "23            34000             25000                  3             4000   \n",
       "24            35000             12000                  3                0   \n",
       "25            35000             25000                  4                0   \n",
       "26            39000              8000                  4                0   \n",
       "27            40000             10000                  4                0   \n",
       "28            42000             15000                  4                0   \n",
       "29            43000             12000                  4                0   \n",
       "30            45000             25000                  6                0   \n",
       "31            45000             40000                  6             3500   \n",
       "32            45000             10000                  2             1000   \n",
       "33            45000             22000                  4             2500   \n",
       "34            46000             25000                  5             3500   \n",
       "35            47000             15000                  7                0   \n",
       "36            50000             20000                  4                0   \n",
       "37            50500             20000                  3                0   \n",
       "38            55000             45000                  6            12000   \n",
       "39            60000             10000                  3                0   \n",
       "40            60000             50000                  6            10000   \n",
       "41            65000             20000                  4             5000   \n",
       "42            70000              9000                  2                0   \n",
       "43            80000             20000                  4                0   \n",
       "44            85000             25000                  5                0   \n",
       "45            90000             48000                  7                0   \n",
       "46            98000             25000                  5                0   \n",
       "47           100000             30000                  6                0   \n",
       "48           100000             50000                  4            20000   \n",
       "49           100000             40000                  6            10000   \n",
       "\n",
       "    Annual_HH_Income Highest_Qualified_Member  No_of_Earning_Members  \n",
       "0              64200           Under-Graduate                      1  \n",
       "1              79920               Illiterate                      1  \n",
       "2             112800           Under-Graduate                      1  \n",
       "3              97200               Illiterate                      1  \n",
       "4             147000                 Graduate                      1  \n",
       "5             196560                 Graduate                      1  \n",
       "6             167400            Post-Graduate                      1  \n",
       "7             216000                 Graduate                      1  \n",
       "8             218880           Under-Graduate                      1  \n",
       "9             220800           Under-Graduate                      2  \n",
       "10            278400           Under-Graduate                      2  \n",
       "11            279840               Illiterate                      1  \n",
       "12            292032               Illiterate                      1  \n",
       "13            316800                 Graduate                      2  \n",
       "14            244800                 Graduate                      2  \n",
       "15            246000                 Graduate                      1  \n",
       "16            261000                 Graduate                      1  \n",
       "17            258000           Under-Graduate                      3  \n",
       "18            348000                 Graduate                      1  \n",
       "19            385200                 Graduate                      1  \n",
       "20            351360           Under-Graduate                      1  \n",
       "21            445440             Professional                      1  \n",
       "22            330480             Professional                      1  \n",
       "23            469200             Professional                      1  \n",
       "24            466200                 Graduate                      1  \n",
       "25            449400             Professional                      2  \n",
       "26            556920           Under-Graduate                      1  \n",
       "27            412800           Under-Graduate                      1  \n",
       "28            488880                 Graduate                      1  \n",
       "29            619200                 Graduate                      1  \n",
       "30            523800                 Graduate                      3  \n",
       "31            507600             Professional                      2  \n",
       "32            437400            Post-Graduate                      1  \n",
       "33            610200            Post-Graduate                      1  \n",
       "34            596160                 Graduate                      1  \n",
       "35            456840             Professional                      4  \n",
       "36            570000             Professional                      1  \n",
       "37            581760             Professional                      2  \n",
       "38            600600                 Graduate                      2  \n",
       "39            590400            Post-Graduate                      1  \n",
       "40            590400                 Graduate                      1  \n",
       "41            647400               Illiterate                      2  \n",
       "42            756000                 Graduate                      1  \n",
       "43           1075200                 Graduate                      1  \n",
       "44           1142400           Under-Graduate                      2  \n",
       "45            885600            Post-Graduate                      3  \n",
       "46           1152480             Professional                      2  \n",
       "47           1404000                 Graduate                      3  \n",
       "48           1032000             Professional                      2  \n",
       "49           1320000            Post-Graduate                      1  "
      ]
     },
     "execution_count": 3,
     "metadata": {},
     "output_type": "execute_result"
    }
   ],
   "source": [
    "df=pd.read_csv(r'C:\\Users\\lenovo\\Downloads\\data.csv')\n",
    "df"
   ]
  },
  {
   "cell_type": "code",
   "execution_count": 4,
   "metadata": {},
   "outputs": [
    {
     "data": {
      "text/plain": [
       "(50, 7)"
      ]
     },
     "execution_count": 4,
     "metadata": {},
     "output_type": "execute_result"
    }
   ],
   "source": [
    "df.shape"
   ]
  },
  {
   "cell_type": "markdown",
   "metadata": {},
   "source": [
    "# 3. Summary statistics of numerical columns\n"
   ]
  },
  {
   "cell_type": "code",
   "execution_count": 5,
   "metadata": {},
   "outputs": [
    {
     "data": {
      "text/html": [
       "<div>\n",
       "<style scoped>\n",
       "    .dataframe tbody tr th:only-of-type {\n",
       "        vertical-align: middle;\n",
       "    }\n",
       "\n",
       "    .dataframe tbody tr th {\n",
       "        vertical-align: top;\n",
       "    }\n",
       "\n",
       "    .dataframe thead th {\n",
       "        text-align: right;\n",
       "    }\n",
       "</style>\n",
       "<table border=\"1\" class=\"dataframe\">\n",
       "  <thead>\n",
       "    <tr style=\"text-align: right;\">\n",
       "      <th></th>\n",
       "      <th>Mthly_HH_Income</th>\n",
       "      <th>Mthly_HH_Expense</th>\n",
       "      <th>No_of_Fly_Members</th>\n",
       "      <th>Emi_or_Rent_Amt</th>\n",
       "      <th>Annual_HH_Income</th>\n",
       "      <th>No_of_Earning_Members</th>\n",
       "    </tr>\n",
       "  </thead>\n",
       "  <tbody>\n",
       "    <tr>\n",
       "      <td>count</td>\n",
       "      <td>50.000000</td>\n",
       "      <td>50.000000</td>\n",
       "      <td>50.000000</td>\n",
       "      <td>50.000000</td>\n",
       "      <td>5.000000e+01</td>\n",
       "      <td>50.000000</td>\n",
       "    </tr>\n",
       "    <tr>\n",
       "      <td>mean</td>\n",
       "      <td>41558.000000</td>\n",
       "      <td>18818.000000</td>\n",
       "      <td>4.060000</td>\n",
       "      <td>3060.000000</td>\n",
       "      <td>4.900190e+05</td>\n",
       "      <td>1.460000</td>\n",
       "    </tr>\n",
       "    <tr>\n",
       "      <td>std</td>\n",
       "      <td>26097.908979</td>\n",
       "      <td>12090.216824</td>\n",
       "      <td>1.517382</td>\n",
       "      <td>6241.434948</td>\n",
       "      <td>3.201358e+05</td>\n",
       "      <td>0.734291</td>\n",
       "    </tr>\n",
       "    <tr>\n",
       "      <td>min</td>\n",
       "      <td>5000.000000</td>\n",
       "      <td>2000.000000</td>\n",
       "      <td>1.000000</td>\n",
       "      <td>0.000000</td>\n",
       "      <td>6.420000e+04</td>\n",
       "      <td>1.000000</td>\n",
       "    </tr>\n",
       "    <tr>\n",
       "      <td>25%</td>\n",
       "      <td>23550.000000</td>\n",
       "      <td>10000.000000</td>\n",
       "      <td>3.000000</td>\n",
       "      <td>0.000000</td>\n",
       "      <td>2.587500e+05</td>\n",
       "      <td>1.000000</td>\n",
       "    </tr>\n",
       "    <tr>\n",
       "      <td>50%</td>\n",
       "      <td>35000.000000</td>\n",
       "      <td>15500.000000</td>\n",
       "      <td>4.000000</td>\n",
       "      <td>0.000000</td>\n",
       "      <td>4.474200e+05</td>\n",
       "      <td>1.000000</td>\n",
       "    </tr>\n",
       "    <tr>\n",
       "      <td>75%</td>\n",
       "      <td>50375.000000</td>\n",
       "      <td>25000.000000</td>\n",
       "      <td>5.000000</td>\n",
       "      <td>3500.000000</td>\n",
       "      <td>5.947200e+05</td>\n",
       "      <td>2.000000</td>\n",
       "    </tr>\n",
       "    <tr>\n",
       "      <td>max</td>\n",
       "      <td>100000.000000</td>\n",
       "      <td>50000.000000</td>\n",
       "      <td>7.000000</td>\n",
       "      <td>35000.000000</td>\n",
       "      <td>1.404000e+06</td>\n",
       "      <td>4.000000</td>\n",
       "    </tr>\n",
       "  </tbody>\n",
       "</table>\n",
       "</div>"
      ],
      "text/plain": [
       "       Mthly_HH_Income  Mthly_HH_Expense  No_of_Fly_Members  Emi_or_Rent_Amt  \\\n",
       "count        50.000000         50.000000          50.000000        50.000000   \n",
       "mean      41558.000000      18818.000000           4.060000      3060.000000   \n",
       "std       26097.908979      12090.216824           1.517382      6241.434948   \n",
       "min        5000.000000       2000.000000           1.000000         0.000000   \n",
       "25%       23550.000000      10000.000000           3.000000         0.000000   \n",
       "50%       35000.000000      15500.000000           4.000000         0.000000   \n",
       "75%       50375.000000      25000.000000           5.000000      3500.000000   \n",
       "max      100000.000000      50000.000000           7.000000     35000.000000   \n",
       "\n",
       "       Annual_HH_Income  No_of_Earning_Members  \n",
       "count      5.000000e+01              50.000000  \n",
       "mean       4.900190e+05               1.460000  \n",
       "std        3.201358e+05               0.734291  \n",
       "min        6.420000e+04               1.000000  \n",
       "25%        2.587500e+05               1.000000  \n",
       "50%        4.474200e+05               1.000000  \n",
       "75%        5.947200e+05               2.000000  \n",
       "max        1.404000e+06               4.000000  "
      ]
     },
     "execution_count": 5,
     "metadata": {},
     "output_type": "execute_result"
    }
   ],
   "source": [
    "df.describe()"
   ]
  },
  {
   "cell_type": "code",
   "execution_count": 6,
   "metadata": {},
   "outputs": [
    {
     "name": "stdout",
     "output_type": "stream",
     "text": [
      "<class 'pandas.core.frame.DataFrame'>\n",
      "RangeIndex: 50 entries, 0 to 49\n",
      "Data columns (total 7 columns):\n",
      "Mthly_HH_Income             50 non-null int64\n",
      "Mthly_HH_Expense            50 non-null int64\n",
      "No_of_Fly_Members           50 non-null int64\n",
      "Emi_or_Rent_Amt             50 non-null int64\n",
      "Annual_HH_Income            50 non-null int64\n",
      "Highest_Qualified_Member    50 non-null object\n",
      "No_of_Earning_Members       50 non-null int64\n",
      "dtypes: int64(6), object(1)\n",
      "memory usage: 2.9+ KB\n"
     ]
    }
   ],
   "source": [
    "df.info()"
   ]
  },
  {
   "cell_type": "markdown",
   "metadata": {},
   "source": [
    "# 4.          Descriptive Statistics\n",
    "* Descriptive statistics is a means of describing features of a data set by generating summaries about data samples. \n",
    "* Descriptive statistics consists of three basic categories of measures: measures of central tendency, measures of variability (or spread), and frequency distribution.\n",
    "* Measures of central tendency describe the center of the data set (mean, median, mode).\n",
    "* Measures of variability describe the dispersion of the data set (variance, standard deviation).\n",
    "* Measures of frequency distribution describe the occurrence of data within the data set (count).\n",
    "## (a) Measures of central  tendency\n",
    "* In this section, I will compute the measures of central tendency - mean, median and mode.\n",
    "\n",
    "\n",
    "\n"
   ]
  },
  {
   "cell_type": "markdown",
   "metadata": {},
   "source": [
    "##  Mean\n",
    "* Mean (Average): Represents the sum of all values in a dataset divided by the total number of the values.\n"
   ]
  },
  {
   "cell_type": "markdown",
   "metadata": {},
   "source": [
    "df.mean()"
   ]
  },
  {
   "cell_type": "markdown",
   "metadata": {},
   "source": []
  },
  {
   "cell_type": "code",
   "execution_count": 16,
   "metadata": {},
   "outputs": [
    {
     "data": {
      "text/plain": [
       "Mthly_HH_Income           41558.00\n",
       "Mthly_HH_Expense          18818.00\n",
       "No_of_Fly_Members             4.06\n",
       "Emi_or_Rent_Amt            3060.00\n",
       "Annual_HH_Income         490019.04\n",
       "No_of_Earning_Members         1.46\n",
       "dtype: float64"
      ]
     },
     "execution_count": 16,
     "metadata": {},
     "output_type": "execute_result"
    }
   ],
   "source": [
    "df.mean()"
   ]
  },
  {
   "cell_type": "code",
   "execution_count": null,
   "metadata": {},
   "outputs": [],
   "source": []
  },
  {
   "cell_type": "code",
   "execution_count": 13,
   "metadata": {},
   "outputs": [
    {
     "name": "stdout",
     "output_type": "stream",
     "text": [
      "0       5000\n",
      "1       6000\n",
      "2      10000\n",
      "3      10000\n",
      "4      12500\n",
      "5      14000\n",
      "6      15000\n",
      "7      18000\n",
      "8      19000\n",
      "9      20000\n",
      "10     20000\n",
      "11     22000\n",
      "12     23400\n",
      "13     24000\n",
      "14     24000\n",
      "15     25000\n",
      "16     25000\n",
      "17     25000\n",
      "18     29000\n",
      "19     30000\n",
      "20     30500\n",
      "21     32000\n",
      "22     34000\n",
      "23     34000\n",
      "24     35000\n",
      "25     35000\n",
      "26     39000\n",
      "27     40000\n",
      "28     42000\n",
      "29     43000\n",
      "30     45000\n",
      "31     45000\n",
      "32     45000\n",
      "33     45000\n",
      "34     46000\n",
      "35     47000\n",
      "36     50000\n",
      "37     50500\n",
      "38     55000\n",
      "39     60000\n",
      "40     60000\n",
      "41     65000\n",
      "42     70000\n",
      "43     80000\n",
      "44     85000\n",
      "45     90000\n",
      "46     98000\n",
      "47    100000\n",
      "48    100000\n",
      "49    100000\n",
      "Name: Mthly_HH_Income, dtype: int64\n"
     ]
    }
   ],
   "source": [
    "mntly_inc=df.iloc[:,0]\n",
    "print(mntly_inc)"
   ]
  },
  {
   "cell_type": "code",
   "execution_count": 117,
   "metadata": {},
   "outputs": [
    {
     "data": {
      "text/plain": [
       "41558.0"
      ]
     },
     "execution_count": 117,
     "metadata": {},
     "output_type": "execute_result"
    }
   ],
   "source": [
    "def mean(mntly_inc):\n",
    "    total=0\n",
    "    for num in mntly_inc:\n",
    "        total=total+num\n",
    "    return total/len(mntly_inc)\n",
    "mean(mntly_inc)"
   ]
  },
  {
   "cell_type": "code",
   "execution_count": 118,
   "metadata": {},
   "outputs": [
    {
     "data": {
      "text/plain": [
       "50"
      ]
     },
     "execution_count": 118,
     "metadata": {},
     "output_type": "execute_result"
    }
   ],
   "source": [
    "mntly_inc.count()"
   ]
  },
  {
   "cell_type": "markdown",
   "metadata": {},
   "source": [
    "## Median\n",
    "* The middle value in a dataset that is arranged in ascending order. If a dataset contains an even number of values, the median of the dataset is the mean of the two middle values."
   ]
  },
  {
   "cell_type": "code",
   "execution_count": 78,
   "metadata": {},
   "outputs": [
    {
     "data": {
      "text/plain": [
       "Mthly_HH_Income           35000.0\n",
       "Mthly_HH_Expense          15500.0\n",
       "No_of_Fly_Members             4.0\n",
       "Emi_or_Rent_Amt               0.0\n",
       "Annual_HH_Income         447420.0\n",
       "No_of_Earning_Members         1.0\n",
       "dtype: float64"
      ]
     },
     "execution_count": 78,
     "metadata": {},
     "output_type": "execute_result"
    }
   ],
   "source": [
    "df.median()"
   ]
  },
  {
   "cell_type": "code",
   "execution_count": 111,
   "metadata": {},
   "outputs": [
    {
     "data": {
      "text/plain": [
       "35000.0"
      ]
     },
     "execution_count": 111,
     "metadata": {},
     "output_type": "execute_result"
    }
   ],
   "source": [
    "def median(mntly_inc):\n",
    "    if len(mntly_inc)%2 != 0:\n",
    "        middle_index=int((len(mntly_inc)-1)/2)\n",
    "        return mntly_inc[middle_index]\n",
    "    elif len(mntly_inc)%2 == 0:\n",
    "        middle_index_1=int(len(mntly_inc)/2)\n",
    "        middle_index_2=int(len(mntly_inc)/2)-1\n",
    "        return mean([mntly_inc[middle_index_1],mntly_inc[middle_index_2]])\n",
    "median(mntly_inc)"
   ]
  },
  {
   "cell_type": "markdown",
   "metadata": {},
   "source": [
    "## Mode\n",
    "* Defines the most frequently occurring value in a dataset. In some cases, a dataset may contain multiple modes, while some datasets may not have any mode at all."
   ]
  },
  {
   "cell_type": "code",
   "execution_count": 75,
   "metadata": {},
   "outputs": [
    {
     "data": {
      "text/html": [
       "<div>\n",
       "<style scoped>\n",
       "    .dataframe tbody tr th:only-of-type {\n",
       "        vertical-align: middle;\n",
       "    }\n",
       "\n",
       "    .dataframe tbody tr th {\n",
       "        vertical-align: top;\n",
       "    }\n",
       "\n",
       "    .dataframe thead th {\n",
       "        text-align: right;\n",
       "    }\n",
       "</style>\n",
       "<table border=\"1\" class=\"dataframe\">\n",
       "  <thead>\n",
       "    <tr style=\"text-align: right;\">\n",
       "      <th></th>\n",
       "      <th>Mthly_HH_Income</th>\n",
       "      <th>Mthly_HH_Expense</th>\n",
       "      <th>No_of_Fly_Members</th>\n",
       "      <th>Emi_or_Rent_Amt</th>\n",
       "      <th>Annual_HH_Income</th>\n",
       "      <th>Highest_Qualified_Member</th>\n",
       "      <th>No_of_Earning_Members</th>\n",
       "    </tr>\n",
       "  </thead>\n",
       "  <tbody>\n",
       "    <tr>\n",
       "      <td>0</td>\n",
       "      <td>45000</td>\n",
       "      <td>25000</td>\n",
       "      <td>4</td>\n",
       "      <td>0</td>\n",
       "      <td>590400</td>\n",
       "      <td>Graduate</td>\n",
       "      <td>1</td>\n",
       "    </tr>\n",
       "  </tbody>\n",
       "</table>\n",
       "</div>"
      ],
      "text/plain": [
       "   Mthly_HH_Income  Mthly_HH_Expense  No_of_Fly_Members  Emi_or_Rent_Amt  \\\n",
       "0            45000             25000                  4                0   \n",
       "\n",
       "   Annual_HH_Income Highest_Qualified_Member  No_of_Earning_Members  \n",
       "0            590400                 Graduate                      1  "
      ]
     },
     "execution_count": 75,
     "metadata": {},
     "output_type": "execute_result"
    }
   ],
   "source": [
    "df.mode()"
   ]
  },
  {
   "cell_type": "code",
   "execution_count": 19,
   "metadata": {},
   "outputs": [
    {
     "name": "stdout",
     "output_type": "stream",
     "text": [
      "{5000: 1, 6000: 1, 10000: 2, 12500: 1, 14000: 1, 15000: 1, 18000: 1, 19000: 1, 20000: 2, 22000: 1, 23400: 1, 24000: 2, 25000: 3, 29000: 1, 30000: 1, 30500: 1, 32000: 1, 34000: 2, 35000: 2, 39000: 1, 40000: 1, 42000: 1, 43000: 1, 45000: 4, 46000: 1, 47000: 1, 50000: 1, 50500: 1, 55000: 1, 60000: 2, 65000: 1, 70000: 1, 80000: 1, 85000: 1, 90000: 1, 98000: 1, 100000: 3}\n"
     ]
    }
   ],
   "source": [
    "def mode(mntly_inc):\n",
    "    max_count={}\n",
    "    for num in mntly_inc:\n",
    "        max_count.setdefault(num,0)\n",
    "        max_count[num]+=1\n",
    "    print(max_count)\n",
    "mode(mntly_inc)\n"
   ]
  },
  {
   "cell_type": "markdown",
   "metadata": {},
   "source": [
    "## (b) Measures of variability \n",
    "### Variance \n",
    "* "
   ]
  },
  {
   "cell_type": "code",
   "execution_count": 76,
   "metadata": {
    "scrolled": true
   },
   "outputs": [
    {
     "data": {
      "text/plain": [
       "Mthly_HH_Income          6.811009e+08\n",
       "Mthly_HH_Expense         1.461733e+08\n",
       "No_of_Fly_Members        2.302449e+00\n",
       "Emi_or_Rent_Amt          3.895551e+07\n",
       "Annual_HH_Income         1.024869e+11\n",
       "No_of_Earning_Members    5.391837e-01\n",
       "dtype: float64"
      ]
     },
     "execution_count": 76,
     "metadata": {},
     "output_type": "execute_result"
    }
   ],
   "source": [
    "df.var()"
   ]
  },
  {
   "cell_type": "code",
   "execution_count": null,
   "metadata": {},
   "outputs": [],
   "source": []
  },
  {
   "cell_type": "markdown",
   "metadata": {},
   "source": [
    "## Standard Deviation"
   ]
  },
  {
   "cell_type": "code",
   "execution_count": 77,
   "metadata": {},
   "outputs": [
    {
     "data": {
      "text/plain": [
       "Mthly_HH_Income           26097.908979\n",
       "Mthly_HH_Expense          12090.216824\n",
       "No_of_Fly_Members             1.517382\n",
       "Emi_or_Rent_Amt            6241.434948\n",
       "Annual_HH_Income         320135.792123\n",
       "No_of_Earning_Members         0.734291\n",
       "dtype: float64"
      ]
     },
     "execution_count": 77,
     "metadata": {},
     "output_type": "execute_result"
    }
   ],
   "source": [
    "df.std()"
   ]
  },
  {
   "cell_type": "code",
   "execution_count": 78,
   "metadata": {},
   "outputs": [],
   "source": [
    "df2=list(df['No_of_Earning_Members'])"
   ]
  },
  {
   "cell_type": "code",
   "execution_count": 79,
   "metadata": {},
   "outputs": [],
   "source": [
    "df1=list(df['Mthly_HH_Income'])\n"
   ]
  },
  {
   "cell_type": "code",
   "execution_count": 80,
   "metadata": {},
   "outputs": [
    {
     "data": {
      "text/plain": [
       "68309347.28"
      ]
     },
     "execution_count": 80,
     "metadata": {},
     "output_type": "execute_result"
    }
   ],
   "source": [
    "def varience(df1):\n",
    "    for x in df1:\n",
    "        n=len(df1)\n",
    "        mean=sum(df1)/n\n",
    "        der=[(x-mean)**2 ]\n",
    "        varience=sum(der)/n\n",
    "    return varience\n",
    "varience(df1)"
   ]
  },
  {
   "cell_type": "code",
   "execution_count": 11,
   "metadata": {},
   "outputs": [
    {
     "data": {
      "text/html": [
       "<div>\n",
       "<style scoped>\n",
       "    .dataframe tbody tr th:only-of-type {\n",
       "        vertical-align: middle;\n",
       "    }\n",
       "\n",
       "    .dataframe tbody tr th {\n",
       "        vertical-align: top;\n",
       "    }\n",
       "\n",
       "    .dataframe thead th {\n",
       "        text-align: right;\n",
       "    }\n",
       "</style>\n",
       "<table border=\"1\" class=\"dataframe\">\n",
       "  <thead>\n",
       "    <tr style=\"text-align: right;\">\n",
       "      <th></th>\n",
       "      <th>Mthly_HH_Income</th>\n",
       "      <th>Mthly_HH_Expense</th>\n",
       "      <th>No_of_Fly_Members</th>\n",
       "      <th>Emi_or_Rent_Amt</th>\n",
       "      <th>Annual_HH_Income</th>\n",
       "      <th>No_of_Earning_Members</th>\n",
       "    </tr>\n",
       "  </thead>\n",
       "  <tbody>\n",
       "    <tr>\n",
       "      <td>Mthly_HH_Income</td>\n",
       "      <td>1.000000</td>\n",
       "      <td>0.649215</td>\n",
       "      <td>0.448317</td>\n",
       "      <td>0.036976</td>\n",
       "      <td>0.970315</td>\n",
       "      <td>0.347883</td>\n",
       "    </tr>\n",
       "    <tr>\n",
       "      <td>Mthly_HH_Expense</td>\n",
       "      <td>0.649215</td>\n",
       "      <td>1.000000</td>\n",
       "      <td>0.639702</td>\n",
       "      <td>0.405280</td>\n",
       "      <td>0.591222</td>\n",
       "      <td>0.311915</td>\n",
       "    </tr>\n",
       "    <tr>\n",
       "      <td>No_of_Fly_Members</td>\n",
       "      <td>0.448317</td>\n",
       "      <td>0.639702</td>\n",
       "      <td>1.000000</td>\n",
       "      <td>0.085808</td>\n",
       "      <td>0.430868</td>\n",
       "      <td>0.597482</td>\n",
       "    </tr>\n",
       "    <tr>\n",
       "      <td>Emi_or_Rent_Amt</td>\n",
       "      <td>0.036976</td>\n",
       "      <td>0.405280</td>\n",
       "      <td>0.085808</td>\n",
       "      <td>1.000000</td>\n",
       "      <td>0.002716</td>\n",
       "      <td>-0.097431</td>\n",
       "    </tr>\n",
       "    <tr>\n",
       "      <td>Annual_HH_Income</td>\n",
       "      <td>0.970315</td>\n",
       "      <td>0.591222</td>\n",
       "      <td>0.430868</td>\n",
       "      <td>0.002716</td>\n",
       "      <td>1.000000</td>\n",
       "      <td>0.296679</td>\n",
       "    </tr>\n",
       "    <tr>\n",
       "      <td>No_of_Earning_Members</td>\n",
       "      <td>0.347883</td>\n",
       "      <td>0.311915</td>\n",
       "      <td>0.597482</td>\n",
       "      <td>-0.097431</td>\n",
       "      <td>0.296679</td>\n",
       "      <td>1.000000</td>\n",
       "    </tr>\n",
       "  </tbody>\n",
       "</table>\n",
       "</div>"
      ],
      "text/plain": [
       "                       Mthly_HH_Income  Mthly_HH_Expense  No_of_Fly_Members  \\\n",
       "Mthly_HH_Income               1.000000          0.649215           0.448317   \n",
       "Mthly_HH_Expense              0.649215          1.000000           0.639702   \n",
       "No_of_Fly_Members             0.448317          0.639702           1.000000   \n",
       "Emi_or_Rent_Amt               0.036976          0.405280           0.085808   \n",
       "Annual_HH_Income              0.970315          0.591222           0.430868   \n",
       "No_of_Earning_Members         0.347883          0.311915           0.597482   \n",
       "\n",
       "                       Emi_or_Rent_Amt  Annual_HH_Income  \\\n",
       "Mthly_HH_Income               0.036976          0.970315   \n",
       "Mthly_HH_Expense              0.405280          0.591222   \n",
       "No_of_Fly_Members             0.085808          0.430868   \n",
       "Emi_or_Rent_Amt               1.000000          0.002716   \n",
       "Annual_HH_Income              0.002716          1.000000   \n",
       "No_of_Earning_Members        -0.097431          0.296679   \n",
       "\n",
       "                       No_of_Earning_Members  \n",
       "Mthly_HH_Income                     0.347883  \n",
       "Mthly_HH_Expense                    0.311915  \n",
       "No_of_Fly_Members                   0.597482  \n",
       "Emi_or_Rent_Amt                    -0.097431  \n",
       "Annual_HH_Income                    0.296679  \n",
       "No_of_Earning_Members               1.000000  "
      ]
     },
     "execution_count": 11,
     "metadata": {},
     "output_type": "execute_result"
    }
   ],
   "source": [
    "df.corr()"
   ]
  },
  {
   "cell_type": "code",
   "execution_count": 44,
   "metadata": {},
   "outputs": [
    {
     "data": {
      "text/plain": [
       "<matplotlib.axes._subplots.AxesSubplot at 0x1d0c528ed88>"
      ]
     },
     "execution_count": 44,
     "metadata": {},
     "output_type": "execute_result"
    },
    {
     "data": {
      "image/png": "[encoded data removed]",
      "text/plain": [
       "<Figure size 1152x576 with 2 Axes>"
      ]
     },
     "metadata": {
      "needs_background": "light"
     },
     "output_type": "display_data"
    }
   ],
   "source": [
    "plt.figure(figsize=(16,8))\n",
    "sns.heatmap(df.corr() ,annot=True)\n"
   ]
  },
  {
   "cell_type": "markdown",
   "metadata": {},
   "source": [
    "## Normal Distribution"
   ]
  },
  {
   "cell_type": "code",
   "execution_count": null,
   "metadata": {},
   "outputs": [],
   "source": [
    "from scipy.stats import norm"
   ]
  },
  {
   "cell_type": "code",
   "execution_count": null,
   "metadata": {},
   "outputs": [],
   "source": [
    "def normal_pdf(x,mu,sigma):\n",
    "    return(1/(sigma*np.sqrt(2*np.pi)))*np.exp((-1/2)*((x-mu)/sigma)**2)\n",
    "normal_pdf"
   ]
  },
  {
   "cell_type": "code",
   "execution_count": 13,
   "metadata": {},
   "outputs": [
    {
     "data": {
      "text/plain": [
       "<Figure size 1152x576 with 0 Axes>"
      ]
     },
     "metadata": {},
     "output_type": "display_data"
    },
    {
     "data": {
      "image/png": "[encoded data removed]",
      "text/plain": [
       "<Figure size 864x576 with 1 Axes>"
      ]
     },
     "metadata": {
      "needs_background": "light"
     },
     "output_type": "display_data"
    }
   ],
   "source": [
    "plt.figure(figsize=(16,8))\n",
    "\n",
    "hist=df.hist('Mthly_HH_Expense',bins=15)\n",
    "plt.show()"
   ]
  },
  {
   "cell_type": "code",
   "execution_count": 14,
   "metadata": {},
   "outputs": [
    {
     "data": {
      "text/plain": [
       "<matplotlib.axes._subplots.AxesSubplot at 0x1907d4e4788>"
      ]
     },
     "execution_count": 14,
     "metadata": {},
     "output_type": "execute_result"
    },
    {
     "data": {
      "image/png": "[encoded data removed]",
      "text/plain": [
       "<Figure size 1152x576 with 1 Axes>"
      ]
     },
     "metadata": {
      "needs_background": "light"
     },
     "output_type": "display_data"
    }
   ],
   "source": [
    "plt.figure(figsize=(16,8))\n",
    "sns.distplot(df['Mthly_HH_Expense'],color='blue')"
   ]
  },
  {
   "cell_type": "code",
   "execution_count": 22,
   "metadata": {},
   "outputs": [],
   "source": [
    "mean=np.mean(df['Mthly_HH_Expense'])"
   ]
  },
  {
   "cell_type": "code",
   "execution_count": 23,
   "metadata": {},
   "outputs": [],
   "source": [
    "std=np.std(df['Mthly_HH_Expense'])"
   ]
  },
  {
   "cell_type": "code",
   "execution_count": 28,
   "metadata": {},
   "outputs": [],
   "source": [
    "import math\n",
    "def fx(x,mu,sigma):\n",
    "    return 1/(sigma*np.sqrt(2*np.pi))*np.exp(-np.power((x-mu)/sigma,2)/2)"
   ]
  },
  {
   "cell_type": "code",
   "execution_count": 29,
   "metadata": {},
   "outputs": [
    {
     "data": {
      "image/png": "[encoded data removed]",
      "text/plain": [
       "<Figure size 864x576 with 1 Axes>"
      ]
     },
     "metadata": {
      "needs_background": "light"
     },
     "output_type": "display_data"
    }
   ],
   "source": [
    "x=np.arange(-5000,65000,0.01)\n",
    "plt.plot(x,fx(x,mean,std))\n",
    "plt.show()"
   ]
  },
  {
   "cell_type": "code",
   "execution_count": 37,
   "metadata": {},
   "outputs": [
    {
     "data": {
      "text/html": [
       "<div>\n",
       "<style scoped>\n",
       "    .dataframe tbody tr th:only-of-type {\n",
       "        vertical-align: middle;\n",
       "    }\n",
       "\n",
       "    .dataframe tbody tr th {\n",
       "        vertical-align: top;\n",
       "    }\n",
       "\n",
       "    .dataframe thead th {\n",
       "        text-align: right;\n",
       "    }\n",
       "</style>\n",
       "<table border=\"1\" class=\"dataframe\">\n",
       "  <thead>\n",
       "    <tr style=\"text-align: right;\">\n",
       "      <th></th>\n",
       "      <th>Mthly_HH_Income</th>\n",
       "      <th>No_of_Fly_Members</th>\n",
       "      <th>Emi_or_Rent_Amt</th>\n",
       "      <th>Annual_HH_Income</th>\n",
       "      <th>Highest_Qualified_Member</th>\n",
       "      <th>No_of_Earning_Members</th>\n",
       "    </tr>\n",
       "  </thead>\n",
       "  <tbody>\n",
       "    <tr>\n",
       "      <td>0</td>\n",
       "      <td>5000</td>\n",
       "      <td>3</td>\n",
       "      <td>2000</td>\n",
       "      <td>64200</td>\n",
       "      <td>Under-Graduate</td>\n",
       "      <td>1</td>\n",
       "    </tr>\n",
       "    <tr>\n",
       "      <td>1</td>\n",
       "      <td>6000</td>\n",
       "      <td>2</td>\n",
       "      <td>3000</td>\n",
       "      <td>79920</td>\n",
       "      <td>Illiterate</td>\n",
       "      <td>1</td>\n",
       "    </tr>\n",
       "    <tr>\n",
       "      <td>2</td>\n",
       "      <td>10000</td>\n",
       "      <td>2</td>\n",
       "      <td>0</td>\n",
       "      <td>112800</td>\n",
       "      <td>Under-Graduate</td>\n",
       "      <td>1</td>\n",
       "    </tr>\n",
       "    <tr>\n",
       "      <td>3</td>\n",
       "      <td>10000</td>\n",
       "      <td>1</td>\n",
       "      <td>0</td>\n",
       "      <td>97200</td>\n",
       "      <td>Illiterate</td>\n",
       "      <td>1</td>\n",
       "    </tr>\n",
       "    <tr>\n",
       "      <td>4</td>\n",
       "      <td>12500</td>\n",
       "      <td>2</td>\n",
       "      <td>3000</td>\n",
       "      <td>147000</td>\n",
       "      <td>Graduate</td>\n",
       "      <td>1</td>\n",
       "    </tr>\n",
       "    <tr>\n",
       "      <td>5</td>\n",
       "      <td>14000</td>\n",
       "      <td>2</td>\n",
       "      <td>0</td>\n",
       "      <td>196560</td>\n",
       "      <td>Graduate</td>\n",
       "      <td>1</td>\n",
       "    </tr>\n",
       "    <tr>\n",
       "      <td>6</td>\n",
       "      <td>15000</td>\n",
       "      <td>3</td>\n",
       "      <td>35000</td>\n",
       "      <td>167400</td>\n",
       "      <td>Post-Graduate</td>\n",
       "      <td>1</td>\n",
       "    </tr>\n",
       "    <tr>\n",
       "      <td>7</td>\n",
       "      <td>18000</td>\n",
       "      <td>5</td>\n",
       "      <td>8000</td>\n",
       "      <td>216000</td>\n",
       "      <td>Graduate</td>\n",
       "      <td>1</td>\n",
       "    </tr>\n",
       "    <tr>\n",
       "      <td>8</td>\n",
       "      <td>19000</td>\n",
       "      <td>2</td>\n",
       "      <td>0</td>\n",
       "      <td>218880</td>\n",
       "      <td>Under-Graduate</td>\n",
       "      <td>1</td>\n",
       "    </tr>\n",
       "    <tr>\n",
       "      <td>9</td>\n",
       "      <td>20000</td>\n",
       "      <td>4</td>\n",
       "      <td>0</td>\n",
       "      <td>220800</td>\n",
       "      <td>Under-Graduate</td>\n",
       "      <td>2</td>\n",
       "    </tr>\n",
       "    <tr>\n",
       "      <td>10</td>\n",
       "      <td>20000</td>\n",
       "      <td>4</td>\n",
       "      <td>8000</td>\n",
       "      <td>278400</td>\n",
       "      <td>Under-Graduate</td>\n",
       "      <td>2</td>\n",
       "    </tr>\n",
       "    <tr>\n",
       "      <td>11</td>\n",
       "      <td>22000</td>\n",
       "      <td>6</td>\n",
       "      <td>12000</td>\n",
       "      <td>279840</td>\n",
       "      <td>Illiterate</td>\n",
       "      <td>1</td>\n",
       "    </tr>\n",
       "    <tr>\n",
       "      <td>12</td>\n",
       "      <td>23400</td>\n",
       "      <td>3</td>\n",
       "      <td>0</td>\n",
       "      <td>292032</td>\n",
       "      <td>Illiterate</td>\n",
       "      <td>1</td>\n",
       "    </tr>\n",
       "    <tr>\n",
       "      <td>13</td>\n",
       "      <td>24000</td>\n",
       "      <td>6</td>\n",
       "      <td>0</td>\n",
       "      <td>316800</td>\n",
       "      <td>Graduate</td>\n",
       "      <td>2</td>\n",
       "    </tr>\n",
       "    <tr>\n",
       "      <td>14</td>\n",
       "      <td>24000</td>\n",
       "      <td>4</td>\n",
       "      <td>0</td>\n",
       "      <td>244800</td>\n",
       "      <td>Graduate</td>\n",
       "      <td>2</td>\n",
       "    </tr>\n",
       "    <tr>\n",
       "      <td>15</td>\n",
       "      <td>25000</td>\n",
       "      <td>3</td>\n",
       "      <td>0</td>\n",
       "      <td>246000</td>\n",
       "      <td>Graduate</td>\n",
       "      <td>1</td>\n",
       "    </tr>\n",
       "    <tr>\n",
       "      <td>16</td>\n",
       "      <td>25000</td>\n",
       "      <td>3</td>\n",
       "      <td>3500</td>\n",
       "      <td>261000</td>\n",
       "      <td>Graduate</td>\n",
       "      <td>1</td>\n",
       "    </tr>\n",
       "    <tr>\n",
       "      <td>17</td>\n",
       "      <td>25000</td>\n",
       "      <td>6</td>\n",
       "      <td>0</td>\n",
       "      <td>258000</td>\n",
       "      <td>Under-Graduate</td>\n",
       "      <td>3</td>\n",
       "    </tr>\n",
       "    <tr>\n",
       "      <td>18</td>\n",
       "      <td>29000</td>\n",
       "      <td>2</td>\n",
       "      <td>2000</td>\n",
       "      <td>348000</td>\n",
       "      <td>Graduate</td>\n",
       "      <td>1</td>\n",
       "    </tr>\n",
       "    <tr>\n",
       "      <td>19</td>\n",
       "      <td>30000</td>\n",
       "      <td>4</td>\n",
       "      <td>0</td>\n",
       "      <td>385200</td>\n",
       "      <td>Graduate</td>\n",
       "      <td>1</td>\n",
       "    </tr>\n",
       "    <tr>\n",
       "      <td>20</td>\n",
       "      <td>30500</td>\n",
       "      <td>5</td>\n",
       "      <td>5000</td>\n",
       "      <td>351360</td>\n",
       "      <td>Under-Graduate</td>\n",
       "      <td>1</td>\n",
       "    </tr>\n",
       "    <tr>\n",
       "      <td>21</td>\n",
       "      <td>32000</td>\n",
       "      <td>4</td>\n",
       "      <td>0</td>\n",
       "      <td>445440</td>\n",
       "      <td>Professional</td>\n",
       "      <td>1</td>\n",
       "    </tr>\n",
       "    <tr>\n",
       "      <td>22</td>\n",
       "      <td>34000</td>\n",
       "      <td>6</td>\n",
       "      <td>0</td>\n",
       "      <td>330480</td>\n",
       "      <td>Professional</td>\n",
       "      <td>1</td>\n",
       "    </tr>\n",
       "    <tr>\n",
       "      <td>23</td>\n",
       "      <td>34000</td>\n",
       "      <td>3</td>\n",
       "      <td>4000</td>\n",
       "      <td>469200</td>\n",
       "      <td>Professional</td>\n",
       "      <td>1</td>\n",
       "    </tr>\n",
       "    <tr>\n",
       "      <td>24</td>\n",
       "      <td>35000</td>\n",
       "      <td>3</td>\n",
       "      <td>0</td>\n",
       "      <td>466200</td>\n",
       "      <td>Graduate</td>\n",
       "      <td>1</td>\n",
       "    </tr>\n",
       "    <tr>\n",
       "      <td>25</td>\n",
       "      <td>35000</td>\n",
       "      <td>4</td>\n",
       "      <td>0</td>\n",
       "      <td>449400</td>\n",
       "      <td>Professional</td>\n",
       "      <td>2</td>\n",
       "    </tr>\n",
       "    <tr>\n",
       "      <td>26</td>\n",
       "      <td>39000</td>\n",
       "      <td>4</td>\n",
       "      <td>0</td>\n",
       "      <td>556920</td>\n",
       "      <td>Under-Graduate</td>\n",
       "      <td>1</td>\n",
       "    </tr>\n",
       "    <tr>\n",
       "      <td>27</td>\n",
       "      <td>40000</td>\n",
       "      <td>4</td>\n",
       "      <td>0</td>\n",
       "      <td>412800</td>\n",
       "      <td>Under-Graduate</td>\n",
       "      <td>1</td>\n",
       "    </tr>\n",
       "    <tr>\n",
       "      <td>28</td>\n",
       "      <td>42000</td>\n",
       "      <td>4</td>\n",
       "      <td>0</td>\n",
       "      <td>488880</td>\n",
       "      <td>Graduate</td>\n",
       "      <td>1</td>\n",
       "    </tr>\n",
       "    <tr>\n",
       "      <td>29</td>\n",
       "      <td>43000</td>\n",
       "      <td>4</td>\n",
       "      <td>0</td>\n",
       "      <td>619200</td>\n",
       "      <td>Graduate</td>\n",
       "      <td>1</td>\n",
       "    </tr>\n",
       "    <tr>\n",
       "      <td>30</td>\n",
       "      <td>45000</td>\n",
       "      <td>6</td>\n",
       "      <td>0</td>\n",
       "      <td>523800</td>\n",
       "      <td>Graduate</td>\n",
       "      <td>3</td>\n",
       "    </tr>\n",
       "    <tr>\n",
       "      <td>31</td>\n",
       "      <td>45000</td>\n",
       "      <td>6</td>\n",
       "      <td>3500</td>\n",
       "      <td>507600</td>\n",
       "      <td>Professional</td>\n",
       "      <td>2</td>\n",
       "    </tr>\n",
       "    <tr>\n",
       "      <td>32</td>\n",
       "      <td>45000</td>\n",
       "      <td>2</td>\n",
       "      <td>1000</td>\n",
       "      <td>437400</td>\n",
       "      <td>Post-Graduate</td>\n",
       "      <td>1</td>\n",
       "    </tr>\n",
       "    <tr>\n",
       "      <td>33</td>\n",
       "      <td>45000</td>\n",
       "      <td>4</td>\n",
       "      <td>2500</td>\n",
       "      <td>610200</td>\n",
       "      <td>Post-Graduate</td>\n",
       "      <td>1</td>\n",
       "    </tr>\n",
       "    <tr>\n",
       "      <td>34</td>\n",
       "      <td>46000</td>\n",
       "      <td>5</td>\n",
       "      <td>3500</td>\n",
       "      <td>596160</td>\n",
       "      <td>Graduate</td>\n",
       "      <td>1</td>\n",
       "    </tr>\n",
       "    <tr>\n",
       "      <td>35</td>\n",
       "      <td>47000</td>\n",
       "      <td>7</td>\n",
       "      <td>0</td>\n",
       "      <td>456840</td>\n",
       "      <td>Professional</td>\n",
       "      <td>4</td>\n",
       "    </tr>\n",
       "    <tr>\n",
       "      <td>36</td>\n",
       "      <td>50000</td>\n",
       "      <td>4</td>\n",
       "      <td>0</td>\n",
       "      <td>570000</td>\n",
       "      <td>Professional</td>\n",
       "      <td>1</td>\n",
       "    </tr>\n",
       "    <tr>\n",
       "      <td>37</td>\n",
       "      <td>50500</td>\n",
       "      <td>3</td>\n",
       "      <td>0</td>\n",
       "      <td>581760</td>\n",
       "      <td>Professional</td>\n",
       "      <td>2</td>\n",
       "    </tr>\n",
       "    <tr>\n",
       "      <td>38</td>\n",
       "      <td>55000</td>\n",
       "      <td>6</td>\n",
       "      <td>12000</td>\n",
       "      <td>600600</td>\n",
       "      <td>Graduate</td>\n",
       "      <td>2</td>\n",
       "    </tr>\n",
       "    <tr>\n",
       "      <td>39</td>\n",
       "      <td>60000</td>\n",
       "      <td>3</td>\n",
       "      <td>0</td>\n",
       "      <td>590400</td>\n",
       "      <td>Post-Graduate</td>\n",
       "      <td>1</td>\n",
       "    </tr>\n",
       "    <tr>\n",
       "      <td>40</td>\n",
       "      <td>60000</td>\n",
       "      <td>6</td>\n",
       "      <td>10000</td>\n",
       "      <td>590400</td>\n",
       "      <td>Graduate</td>\n",
       "      <td>1</td>\n",
       "    </tr>\n",
       "    <tr>\n",
       "      <td>41</td>\n",
       "      <td>65000</td>\n",
       "      <td>4</td>\n",
       "      <td>5000</td>\n",
       "      <td>647400</td>\n",
       "      <td>Illiterate</td>\n",
       "      <td>2</td>\n",
       "    </tr>\n",
       "    <tr>\n",
       "      <td>42</td>\n",
       "      <td>70000</td>\n",
       "      <td>2</td>\n",
       "      <td>0</td>\n",
       "      <td>756000</td>\n",
       "      <td>Graduate</td>\n",
       "      <td>1</td>\n",
       "    </tr>\n",
       "    <tr>\n",
       "      <td>43</td>\n",
       "      <td>80000</td>\n",
       "      <td>4</td>\n",
       "      <td>0</td>\n",
       "      <td>1075200</td>\n",
       "      <td>Graduate</td>\n",
       "      <td>1</td>\n",
       "    </tr>\n",
       "    <tr>\n",
       "      <td>44</td>\n",
       "      <td>85000</td>\n",
       "      <td>5</td>\n",
       "      <td>0</td>\n",
       "      <td>1142400</td>\n",
       "      <td>Under-Graduate</td>\n",
       "      <td>2</td>\n",
       "    </tr>\n",
       "    <tr>\n",
       "      <td>45</td>\n",
       "      <td>90000</td>\n",
       "      <td>7</td>\n",
       "      <td>0</td>\n",
       "      <td>885600</td>\n",
       "      <td>Post-Graduate</td>\n",
       "      <td>3</td>\n",
       "    </tr>\n",
       "    <tr>\n",
       "      <td>46</td>\n",
       "      <td>98000</td>\n",
       "      <td>5</td>\n",
       "      <td>0</td>\n",
       "      <td>1152480</td>\n",
       "      <td>Professional</td>\n",
       "      <td>2</td>\n",
       "    </tr>\n",
       "    <tr>\n",
       "      <td>47</td>\n",
       "      <td>100000</td>\n",
       "      <td>6</td>\n",
       "      <td>0</td>\n",
       "      <td>1404000</td>\n",
       "      <td>Graduate</td>\n",
       "      <td>3</td>\n",
       "    </tr>\n",
       "    <tr>\n",
       "      <td>48</td>\n",
       "      <td>100000</td>\n",
       "      <td>4</td>\n",
       "      <td>20000</td>\n",
       "      <td>1032000</td>\n",
       "      <td>Professional</td>\n",
       "      <td>2</td>\n",
       "    </tr>\n",
       "    <tr>\n",
       "      <td>49</td>\n",
       "      <td>100000</td>\n",
       "      <td>6</td>\n",
       "      <td>10000</td>\n",
       "      <td>1320000</td>\n",
       "      <td>Post-Graduate</td>\n",
       "      <td>1</td>\n",
       "    </tr>\n",
       "  </tbody>\n",
       "</table>\n",
       "</div>"
      ],
      "text/plain": [
       "    Mthly_HH_Income  No_of_Fly_Members  Emi_or_Rent_Amt  Annual_HH_Income  \\\n",
       "0              5000                  3             2000             64200   \n",
       "1              6000                  2             3000             79920   \n",
       "2             10000                  2                0            112800   \n",
       "3             10000                  1                0             97200   \n",
       "4             12500                  2             3000            147000   \n",
       "5             14000                  2                0            196560   \n",
       "6             15000                  3            35000            167400   \n",
       "7             18000                  5             8000            216000   \n",
       "8             19000                  2                0            218880   \n",
       "9             20000                  4                0            220800   \n",
       "10            20000                  4             8000            278400   \n",
       "11            22000                  6            12000            279840   \n",
       "12            23400                  3                0            292032   \n",
       "13            24000                  6                0            316800   \n",
       "14            24000                  4                0            244800   \n",
       "15            25000                  3                0            246000   \n",
       "16            25000                  3             3500            261000   \n",
       "17            25000                  6                0            258000   \n",
       "18            29000                  2             2000            348000   \n",
       "19            30000                  4                0            385200   \n",
       "20            30500                  5             5000            351360   \n",
       "21            32000                  4                0            445440   \n",
       "22            34000                  6                0            330480   \n",
       "23            34000                  3             4000            469200   \n",
       "24            35000                  3                0            466200   \n",
       "25            35000                  4                0            449400   \n",
       "26            39000                  4                0            556920   \n",
       "27            40000                  4                0            412800   \n",
       "28            42000                  4                0            488880   \n",
       "29            43000                  4                0            619200   \n",
       "30            45000                  6                0            523800   \n",
       "31            45000                  6             3500            507600   \n",
       "32            45000                  2             1000            437400   \n",
       "33            45000                  4             2500            610200   \n",
       "34            46000                  5             3500            596160   \n",
       "35            47000                  7                0            456840   \n",
       "36            50000                  4                0            570000   \n",
       "37            50500                  3                0            581760   \n",
       "38            55000                  6            12000            600600   \n",
       "39            60000                  3                0            590400   \n",
       "40            60000                  6            10000            590400   \n",
       "41            65000                  4             5000            647400   \n",
       "42            70000                  2                0            756000   \n",
       "43            80000                  4                0           1075200   \n",
       "44            85000                  5                0           1142400   \n",
       "45            90000                  7                0            885600   \n",
       "46            98000                  5                0           1152480   \n",
       "47           100000                  6                0           1404000   \n",
       "48           100000                  4            20000           1032000   \n",
       "49           100000                  6            10000           1320000   \n",
       "\n",
       "   Highest_Qualified_Member  No_of_Earning_Members  \n",
       "0            Under-Graduate                      1  \n",
       "1                Illiterate                      1  \n",
       "2            Under-Graduate                      1  \n",
       "3                Illiterate                      1  \n",
       "4                  Graduate                      1  \n",
       "5                  Graduate                      1  \n",
       "6             Post-Graduate                      1  \n",
       "7                  Graduate                      1  \n",
       "8            Under-Graduate                      1  \n",
       "9            Under-Graduate                      2  \n",
       "10           Under-Graduate                      2  \n",
       "11               Illiterate                      1  \n",
       "12               Illiterate                      1  \n",
       "13                 Graduate                      2  \n",
       "14                 Graduate                      2  \n",
       "15                 Graduate                      1  \n",
       "16                 Graduate                      1  \n",
       "17           Under-Graduate                      3  \n",
       "18                 Graduate                      1  \n",
       "19                 Graduate                      1  \n",
       "20           Under-Graduate                      1  \n",
       "21             Professional                      1  \n",
       "22             Professional                      1  \n",
       "23             Professional                      1  \n",
       "24                 Graduate                      1  \n",
       "25             Professional                      2  \n",
       "26           Under-Graduate                      1  \n",
       "27           Under-Graduate                      1  \n",
       "28                 Graduate                      1  \n",
       "29                 Graduate                      1  \n",
       "30                 Graduate                      3  \n",
       "31             Professional                      2  \n",
       "32            Post-Graduate                      1  \n",
       "33            Post-Graduate                      1  \n",
       "34                 Graduate                      1  \n",
       "35             Professional                      4  \n",
       "36             Professional                      1  \n",
       "37             Professional                      2  \n",
       "38                 Graduate                      2  \n",
       "39            Post-Graduate                      1  \n",
       "40                 Graduate                      1  \n",
       "41               Illiterate                      2  \n",
       "42                 Graduate                      1  \n",
       "43                 Graduate                      1  \n",
       "44           Under-Graduate                      2  \n",
       "45            Post-Graduate                      3  \n",
       "46             Professional                      2  \n",
       "47                 Graduate                      3  \n",
       "48             Professional                      2  \n",
       "49            Post-Graduate                      1  "
      ]
     },
     "execution_count": 37,
     "metadata": {},
     "output_type": "execute_result"
    }
   ],
   "source": []
  },
  {
   "cell_type": "code",
   "execution_count": 40,
   "metadata": {},
   "outputs": [
    {
     "data": {
      "image/png": "[encoded data removed]",
      "text/plain": [
       "<Figure size 1008x288 with 2 Axes>"
      ]
     },
     "metadata": {
      "needs_background": "light"
     },
     "output_type": "display_data"
    }
   ],
   "source": [
    "import scipy.stats as stats\n",
    "plt.figure(figsize=(14,4))\n",
    "plt.subplot(121)\n",
    "sns.distplot(df['Annual_HH_Income'])\n",
    "plt.title(\"Annual_HH_Income PDF\")\n",
    "\n",
    "\n",
    "plt.subplot(122)\n",
    "stats.probplot(df['Annual_HH_Income'],dist=\"norm\",plot=plt)\n",
    "plt.title(\"Annual_HH_Income QQ PLOT\")\n",
    "    \n",
    "    \n",
    "plt.show()"
   ]
  },
  {
   "cell_type": "code",
   "execution_count": null,
   "metadata": {},
   "outputs": [],
   "source": []
  },
  {
   "cell_type": "markdown",
   "metadata": {},
   "source": [
    "# Univariate & Bivariate Analysis"
   ]
  },
  {
   "cell_type": "code",
   "execution_count": 74,
   "metadata": {},
   "outputs": [
    {
     "data": {
      "text/plain": [
       "<seaborn.axisgrid.PairGrid at 0x1e4b8dbc4c8>"
      ]
     },
     "execution_count": 74,
     "metadata": {},
     "output_type": "execute_result"
    },
    {
     "data": {
      "image/png": "[encoded data removed]",
      "text/plain": [
       "<Figure size 1080x1080 with 42 Axes>"
      ]
     },
     "metadata": {
      "needs_background": "light"
     },
     "output_type": "display_data"
    }
   ],
   "source": [
    "sns.pairplot(df)"
   ]
  },
  {
   "cell_type": "code",
   "execution_count": null,
   "metadata": {},
   "outputs": [],
   "source": []
  },
  {
   "cell_type": "code",
   "execution_count": null,
   "metadata": {},
   "outputs": [],
   "source": []
  },
  {
   "cell_type": "code",
   "execution_count": 128,
   "metadata": {},
   "outputs": [
    {
     "data": {
      "text/plain": [
       "<matplotlib.axes._subplots.AxesSubplot at 0x1e4bbd44948>"
      ]
     },
     "execution_count": 128,
     "metadata": {},
     "output_type": "execute_result"
    },
    {
     "data": {
      "image/png": "[encoded data removed]",
      "text/plain": [
       "<Figure size 432x288 with 1 Axes>"
      ]
     },
     "metadata": {
      "needs_background": "light"
     },
     "output_type": "display_data"
    }
   ],
   "source": [
    "sns.distplot(df.Mthly_HH_Income,kde=False)"
   ]
  },
  {
   "cell_type": "code",
   "execution_count": null,
   "metadata": {},
   "outputs": [],
   "source": []
  },
  {
   "cell_type": "code",
   "execution_count": null,
   "metadata": {},
   "outputs": [],
   "source": []
  },
  {
   "cell_type": "code",
   "execution_count": null,
   "metadata": {},
   "outputs": [],
   "source": []
  },
  {
   "cell_type": "code",
   "execution_count": null,
   "metadata": {},
   "outputs": [],
   "source": []
  },
  {
   "cell_type": "code",
   "execution_count": 140,
   "metadata": {},
   "outputs": [
    {
     "data": {
      "text/plain": [
       "<matplotlib.axes._subplots.AxesSubplot at 0x1e4bc2db388>"
      ]
     },
     "execution_count": 140,
     "metadata": {},
     "output_type": "execute_result"
    },
    {
     "data": {
      "image/png": "[encoded data removed]",
      "text/plain": [
       "<Figure size 432x288 with 1 Axes>"
      ]
     },
     "metadata": {
      "needs_background": "light"
     },
     "output_type": "display_data"
    }
   ],
   "source": [
    "df['No_of_Earning_Members'].value_counts().plot(kind='bar')"
   ]
  },
  {
   "cell_type": "code",
   "execution_count": 134,
   "metadata": {},
   "outputs": [
    {
     "data": {
      "text/plain": [
       "<matplotlib.axes._subplots.AxesSubplot at 0x1e4bc1e9308>"
      ]
     },
     "execution_count": 134,
     "metadata": {},
     "output_type": "execute_result"
    },
    {
     "data": {
      "image/png": "[encoded data removed]",
      "text/plain": [
       "<Figure size 432x288 with 1 Axes>"
      ]
     },
     "metadata": {},
     "output_type": "display_data"
    }
   ],
   "source": [
    "df['No_of_Earning_Members'].value_counts().plot(kind='pie',autopct='%0.2f')"
   ]
  },
  {
   "cell_type": "code",
   "execution_count": 135,
   "metadata": {},
   "outputs": [
    {
     "data": {
      "text/plain": [
       "<matplotlib.axes._subplots.AxesSubplot at 0x1e4bc26d088>"
      ]
     },
     "execution_count": 135,
     "metadata": {},
     "output_type": "execute_result"
    },
    {
     "data": {
      "image/png": "[encoded data removed]",
      "text/plain": [
       "<Figure size 432x288 with 1 Axes>"
      ]
     },
     "metadata": {},
     "output_type": "display_data"
    }
   ],
   "source": [
    "df['Highest_Qualified_Member'].value_counts().plot(kind='pie',autopct='%0.2f')"
   ]
  },
  {
   "cell_type": "code",
   "execution_count": 140,
   "metadata": {},
   "outputs": [
    {
     "data": {
      "text/plain": [
       "<matplotlib.axes._subplots.AxesSubplot at 0x216db909dc8>"
      ]
     },
     "execution_count": 140,
     "metadata": {},
     "output_type": "execute_result"
    },
    {
     "data": {
      "image/png": "[encoded data removed]",
      "text/plain": [
       "<Figure size 432x288 with 1 Axes>"
      ]
     },
     "metadata": {
      "needs_background": "light"
     },
     "output_type": "display_data"
    }
   ],
   "source": [
    "sns.countplot(df['No_of_Fly_Members'])"
   ]
  },
  {
   "cell_type": "code",
   "execution_count": 143,
   "metadata": {},
   "outputs": [
    {
     "data": {
      "text/plain": [
       "(array([ 7., 12.,  8., 11.,  4.,  1.,  1.,  2.,  2.,  2.]),\n",
       " array([  64200.,  198180.,  332160.,  466140.,  600120.,  734100.,\n",
       "         868080., 1002060., 1136040., 1270020., 1404000.]),\n",
       " <a list of 10 Patch objects>)"
      ]
     },
     "execution_count": 143,
     "metadata": {},
     "output_type": "execute_result"
    },
    {
     "data": {
      "image/png": "[encoded data removed]",
      "text/plain": [
       "<Figure size 432x288 with 1 Axes>"
      ]
     },
     "metadata": {
      "needs_background": "light"
     },
     "output_type": "display_data"
    }
   ],
   "source": [
    "d=df['Annual_HH_Income'].values\n",
    "plt.hist(d)"
   ]
  },
  {
   "cell_type": "code",
   "execution_count": 145,
   "metadata": {},
   "outputs": [
    {
     "data": {
      "text/plain": [
       "<matplotlib.axes._subplots.AxesSubplot at 0x1e4bd3a6d48>"
      ]
     },
     "execution_count": 145,
     "metadata": {},
     "output_type": "execute_result"
    },
    {
     "data": {
      "image/png": "[encoded data removed]",
      "text/plain": [
       "<Figure size 432x288 with 1 Axes>"
      ]
     },
     "metadata": {
      "needs_background": "light"
     },
     "output_type": "display_data"
    }
   ],
   "source": [
    "sns.boxplot(df['Annual_HH_Income'])"
   ]
  },
  {
   "cell_type": "code",
   "execution_count": null,
   "metadata": {},
   "outputs": [],
   "source": []
  },
  {
   "cell_type": "code",
   "execution_count": null,
   "metadata": {},
   "outputs": [],
   "source": []
  },
  {
   "cell_type": "code",
   "execution_count": null,
   "metadata": {},
   "outputs": [],
   "source": []
  },
  {
   "cell_type": "code",
   "execution_count": 70,
   "metadata": {},
   "outputs": [
    {
     "data": {
      "text/plain": [
       "<matplotlib.axes._subplots.AxesSubplot at 0x1e4b2d61b88>"
      ]
     },
     "execution_count": 70,
     "metadata": {},
     "output_type": "execute_result"
    },
    {
     "data": {
      "image/png": "[encoded data removed]",
      "text/plain": [
       "<Figure size 432x288 with 1 Axes>"
      ]
     },
     "metadata": {
      "needs_background": "light"
     },
     "output_type": "display_data"
    }
   ],
   "source": [
    "sns.distplot(df['Mthly_HH_Expense'],hist=False)\n",
    "sns.distplot(df['Mthly_HH_Income'],hist=False)"
   ]
  },
  {
   "cell_type": "code",
   "execution_count": null,
   "metadata": {},
   "outputs": [],
   "source": []
  },
  {
   "cell_type": "code",
   "execution_count": 42,
   "metadata": {},
   "outputs": [
    {
     "data": {
      "text/plain": [
       "Text(0.5, 1.0, 'Mthly_HH_Income  vs  Mthly_HH_Expense')"
      ]
     },
     "execution_count": 42,
     "metadata": {},
     "output_type": "execute_result"
    },
    {
     "data": {
      "image/png": "[encoded data removed]",
      "text/plain": [
       "<Figure size 432x288 with 1 Axes>"
      ]
     },
     "metadata": {
      "needs_background": "light"
     },
     "output_type": "display_data"
    }
   ],
   "source": [
    "sns.scatterplot(df['Mthly_HH_Income'],df['Mthly_HH_Expense'])\n",
    "plt.title('Mthly_HH_Income  vs  Mthly_HH_Expense')"
   ]
  },
  {
   "cell_type": "code",
   "execution_count": 43,
   "metadata": {},
   "outputs": [
    {
     "data": {
      "text/plain": [
       "<matplotlib.axes._subplots.AxesSubplot at 0x1e4b0f42208>"
      ]
     },
     "execution_count": 43,
     "metadata": {},
     "output_type": "execute_result"
    },
    {
     "data": {
      "image/png": "[encoded data removed]",
      "text/plain": [
       "<Figure size 432x288 with 1 Axes>"
      ]
     },
     "metadata": {
      "needs_background": "light"
     },
     "output_type": "display_data"
    }
   ],
   "source": [
    "sns.scatterplot(df['Mthly_HH_Income'],df['Mthly_HH_Expense'],hue=df['Highest_Qualified_Member'])"
   ]
  },
  {
   "cell_type": "code",
   "execution_count": 41,
   "metadata": {},
   "outputs": [
    {
     "data": {
      "text/plain": [
       "Text(0.5, 1.0, 'Highest_Qualified_Member  vs  Emi_or_Rent_Amt')"
      ]
     },
     "execution_count": 41,
     "metadata": {},
     "output_type": "execute_result"
    },
    {
     "data": {
      "image/png": "[encoded data removed]",
      "text/plain": [
       "<Figure size 432x288 with 1 Axes>"
      ]
     },
     "metadata": {
      "needs_background": "light"
     },
     "output_type": "display_data"
    }
   ],
   "source": [
    "sns.scatterplot(df['Highest_Qualified_Member'],df['Emi_or_Rent_Amt'])\n",
    "plt.title('Highest_Qualified_Member  vs  Emi_or_Rent_Amt')"
   ]
  },
  {
   "cell_type": "code",
   "execution_count": 51,
   "metadata": {},
   "outputs": [
    {
     "data": {
      "text/plain": [
       "<matplotlib.axes._subplots.AxesSubplot at 0x1e4b180ba48>"
      ]
     },
     "execution_count": 51,
     "metadata": {},
     "output_type": "execute_result"
    },
    {
     "data": {
      "image/png": "[encoded data removed]",
      "text/plain": [
       "<Figure size 432x288 with 1 Axes>"
      ]
     },
     "metadata": {
      "needs_background": "light"
     },
     "output_type": "display_data"
    }
   ],
   "source": [
    "sns.barplot(df['Highest_Qualified_Member'],df['Mthly_HH_Income'])"
   ]
  },
  {
   "cell_type": "code",
   "execution_count": 146,
   "metadata": {},
   "outputs": [
    {
     "data": {
      "text/plain": [
       "<matplotlib.axes._subplots.AxesSubplot at 0x1e4bd3f4248>"
      ]
     },
     "execution_count": 146,
     "metadata": {},
     "output_type": "execute_result"
    },
    {
     "data": {
      "image/png": "[encoded data removed]",
      "text/plain": [
       "<Figure size 432x288 with 1 Axes>"
      ]
     },
     "metadata": {
      "needs_background": "light"
     },
     "output_type": "display_data"
    }
   ],
   "source": [
    "ct=pd.crosstab(df['Highest_Qualified_Member'],df['No_of_Fly_Members'])\n",
    "ct.plot(kind='bar')"
   ]
  },
  {
   "cell_type": "code",
   "execution_count": 46,
   "metadata": {},
   "outputs": [
    {
     "data": {
      "text/plain": [
       "<matplotlib.axes._subplots.AxesSubplot at 0x1e4b10bb248>"
      ]
     },
     "execution_count": 46,
     "metadata": {},
     "output_type": "execute_result"
    },
    {
     "data": {
      "image/png": "[encoded data removed]",
      "text/plain": [
       "<Figure size 432x288 with 1 Axes>"
      ]
     },
     "metadata": {
      "needs_background": "light"
     },
     "output_type": "display_data"
    }
   ],
   "source": [
    "sns.barplot(df['Highest_Qualified_Member'],df['Emi_or_Rent_Amt'])"
   ]
  },
  {
   "cell_type": "code",
   "execution_count": 52,
   "metadata": {},
   "outputs": [
    {
     "data": {
      "text/plain": [
       "<matplotlib.axes._subplots.AxesSubplot at 0x1e4b17c8348>"
      ]
     },
     "execution_count": 52,
     "metadata": {},
     "output_type": "execute_result"
    },
    {
     "data": {
      "image/png": "[encoded data removed]",
      "text/plain": [
       "<Figure size 432x288 with 1 Axes>"
      ]
     },
     "metadata": {
      "needs_background": "light"
     },
     "output_type": "display_data"
    }
   ],
   "source": [
    "sns.boxplot(df['Highest_Qualified_Member'],df['Mthly_HH_Income'])"
   ]
  },
  {
   "cell_type": "code",
   "execution_count": 53,
   "metadata": {},
   "outputs": [
    {
     "data": {
      "text/plain": [
       "<matplotlib.axes._subplots.AxesSubplot at 0x1e4b19430c8>"
      ]
     },
     "execution_count": 53,
     "metadata": {},
     "output_type": "execute_result"
    },
    {
     "data": {
      "image/png": "[encoded data removed]",
      "text/plain": [
       "<Figure size 432x288 with 1 Axes>"
      ]
     },
     "metadata": {
      "needs_background": "light"
     },
     "output_type": "display_data"
    }
   ],
   "source": [
    "sns.boxplot(df['Highest_Qualified_Member'],df['Mthly_HH_Expense'])"
   ]
  },
  {
   "cell_type": "code",
   "execution_count": null,
   "metadata": {},
   "outputs": [],
   "source": []
  },
  {
   "cell_type": "code",
   "execution_count": 62,
   "metadata": {},
   "outputs": [
    {
     "data": {
      "text/plain": [
       "Text(0.5, 1.0, 'Annual_HH_Income  vs  Mthly_HH_Expense')"
      ]
     },
     "execution_count": 62,
     "metadata": {},
     "output_type": "execute_result"
    },
    {
     "data": {
      "image/png": "[encoded data removed]",
      "text/plain": [
       "<Figure size 432x288 with 1 Axes>"
      ]
     },
     "metadata": {
      "needs_background": "light"
     },
     "output_type": "display_data"
    }
   ],
   "source": [
    "sns.scatterplot(df['Annual_HH_Income'],df['Mthly_HH_Expense'])\n",
    "plt.title('Annual_HH_Income  vs  Mthly_HH_Expense')"
   ]
  },
  {
   "cell_type": "code",
   "execution_count": null,
   "metadata": {},
   "outputs": [],
   "source": []
  },
  {
   "cell_type": "code",
   "execution_count": null,
   "metadata": {},
   "outputs": [],
   "source": []
  }
 ],
 "metadata": {
  "kernelspec": {
   "display_name": "Python 3",
   "language": "python",
   "name": "python3"
  },
  "language_info": {
   "codemirror_mode": {
    "name": "ipython",
    "version": 3
   },
   "file_extension": ".py",
   "mimetype": "text/x-python",
   "name": "python",
   "nbconvert_exporter": "python",
   "pygments_lexer": "ipython3",
   "version": "3.7.4"
  }
 },
 "nbformat": 4,
 "nbformat_minor": 2
}
